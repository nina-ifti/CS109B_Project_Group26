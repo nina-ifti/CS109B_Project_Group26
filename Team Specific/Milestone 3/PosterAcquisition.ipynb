{
 "cells": [
  {
   "cell_type": "markdown",
   "metadata": {
    "deletable": true,
    "editable": true
   },
   "source": [
    "# Data Acquisition Code\n",
    "\n",
    "<br>\n",
    "This code includes the necessary comand to acquire the data in addition to some helper function for the image analysis\n",
    "\n",
    "\n",
    "<br>\n",
    "\n",
    "## A - Data Acquisition\n",
    "\n",
    "\n",
    "<br>"
   ]
  },
  {
   "cell_type": "markdown",
   "metadata": {
    "deletable": true,
    "editable": true
   },
   "source": [
    "### Importing Modules\n",
    "\n",
    "\n",
    "<br>"
   ]
  },
  {
   "cell_type": "code",
   "execution_count": 1,
   "metadata": {
    "collapsed": false,
    "deletable": true,
    "editable": true,
    "scrolled": true
   },
   "outputs": [],
   "source": [
    "import requests\n",
    "import json\n",
    "import time\n",
    "import itertools\n",
    "import wget\n",
    "import os\n",
    "import png\n",
    "import pickle\n",
    "import numpy as np\n",
    "import tmdbsimple as tmdb\n",
    "import time\n",
    "import sys\n",
    "import urllib\n",
    "from PIL import Image , ImageFile\n",
    "\n",
    "import random\n",
    "import matplotlib\n",
    "import matplotlib.pyplot as plt\n",
    "%matplotlib inline\n",
    "\n",
    "import seaborn as sns\n",
    "from sklearn.cluster.bicluster import SpectralCoclustering\n",
    "from sklearn.metrics import precision_recall_curve\n",
    "import scipy\n",
    "\n",
    "sns.set_style('white')\n",
    "import pandas as pd\n"
   ]
  },
  {
   "cell_type": "code",
   "execution_count": 2,
   "metadata": {
    "collapsed": true
   },
   "outputs": [],
   "source": [
    "url = 'https://drive.google.com/a/harvard.edu/file/d/0B-l1_cKhVRkNN0pvaFdMY2hLVEU/view?usp=sharing'\n",
    "filename = 'test.pik'\n",
    "f = open(filename , 'wb' )\n",
    "f.write(urllib.urlopen(url).read())\n",
    "f.close()\n",
    "    "
   ]
  },
  {
   "cell_type": "markdown",
   "metadata": {
    "deletable": true,
    "editable": true
   },
   "source": [
    "### Importing Data Fileas and Extracting the poster path and the movie ID\n",
    "\n",
    "<br>"
   ]
  },
  {
   "cell_type": "code",
   "execution_count": 6,
   "metadata": {
    "collapsed": false,
    "deletable": true,
    "editable": true
   },
   "outputs": [
    {
     "name": "stdout",
     "output_type": "stream",
     "text": [
      "['/6JdNN04zLhWrcz5rD3k9d4nDbM7.jpg' '/pEVChTdLzgXO1fBvlSYFsukWlP4.jpg'\n",
      " '/9u2f7mbgwJzSIcnOqfS5kOAELlH.jpg' '/bxg98VKp0tUA2U3AUuM2Ej9Yc4S.jpg'\n",
      " '/btTJrU4EAXihCzKYES1ROY6ZUpR.jpg']\n",
      "[22924 14223 18307 27420 19157] 9988\n"
     ]
    }
   ],
   "source": [
    "# Importing Data file\n",
    "data = pd.read_csv('Data.csv')\n",
    "\n",
    "# getting the poster path\n",
    "posterpath = data.poster_path.values\n",
    "\n",
    "# Getting the movie id\n",
    "ids = data.id.values\n",
    "\n",
    "# Printing a sample path\n",
    "print posterpath[:5]\n",
    "\n",
    "# Print a sample id numbers\n",
    "print ids[:5] , len(ids)"
   ]
  },
  {
   "cell_type": "markdown",
   "metadata": {
    "deletable": true,
    "editable": true
   },
   "source": [
    "### Acquiring The poster:\n",
    "\n",
    "\n",
    "<br>"
   ]
  },
  {
   "cell_type": "markdown",
   "metadata": {
    "deletable": true,
    "editable": true
   },
   "source": [
    "\n",
    "\n",
    "<br>\n",
    "#### Initialize the URL and the File count\n",
    "\n",
    "<br>"
   ]
  },
  {
   "cell_type": "code",
   "execution_count": 7,
   "metadata": {
    "collapsed": true,
    "deletable": true,
    "editable": true
   },
   "outputs": [],
   "source": [
    "# Specifying Number of posters\n",
    "start_list = 0\n",
    "end_list   = len(ids)  \n",
    "\n",
    "# Initial url with configuration\n",
    "url1 = 'https://image.tmdb.org/t/p/w500'\n",
    "\n",
    "# Initiate the posters list\n",
    "posters = []\n",
    "\n",
    "# Initiate the ID list\n",
    "idlist = []"
   ]
  },
  {
   "cell_type": "code",
   "execution_count": 8,
   "metadata": {
    "collapsed": false
   },
   "outputs": [
    {
     "data": {
      "text/plain": [
       "9988"
      ]
     },
     "execution_count": 8,
     "metadata": {},
     "output_type": "execute_result"
    }
   ],
   "source": [
    "len(range(start_list , end_list))"
   ]
  },
  {
   "cell_type": "markdown",
   "metadata": {
    "deletable": true,
    "editable": true
   },
   "source": [
    "\n",
    "\n",
    "<br>\n",
    "#### Acquire the posters\n",
    "\n",
    "\n",
    "<br>"
   ]
  },
  {
   "cell_type": "code",
   "execution_count": 9,
   "metadata": {
    "collapsed": false,
    "deletable": true,
    "editable": true
   },
   "outputs": [
    {
     "name": "stdout",
     "output_type": "stream",
     "text": [
      " Step: 9987 , id 22289"
     ]
    }
   ],
   "source": [
    "# Iterrate for the database\n",
    "for i in range(start_list , end_list):\n",
    "    \n",
    "    # getting the movie poster\n",
    "    url2 = posterpath[i]\n",
    "    \n",
    "    # Checking if it is a valid path\n",
    "    if len(url2) > 0:\n",
    "        \n",
    "        # composing the url\n",
    "        url = url1 + url2\n",
    "    \n",
    "        filename = './posters/' + str(ids[i]) + url2[-4:]\n",
    "    \n",
    "        # f = open(filename , 'wb' )\n",
    "        # f.write(urllib.urlopen(url).read())\n",
    "        # f.close()\n",
    "    \n",
    "        posters.append(filename)\n",
    "        \n",
    "        idlist.append(ids[i])\n",
    "        \n",
    "    else:\n",
    "        \n",
    "        posters.append(\"\")\n",
    "        idlist.append(\"\")\n",
    "    \n",
    "    time.sleep(0.1)\n",
    "    \n",
    "    sys.stdout.flush()\n",
    "    sys.stdout.write(\"\\r Step: {} , id {}\".format(i , ids[i]))\n",
    "    \n",
    "    "
   ]
  },
  {
   "cell_type": "markdown",
   "metadata": {
    "collapsed": true,
    "deletable": true,
    "editable": true
   },
   "source": [
    "\n",
    "\n",
    "<br>\n",
    "#### Construct a data structure for the metadata\n",
    "\n",
    "\n",
    "<br>"
   ]
  },
  {
   "cell_type": "code",
   "execution_count": 11,
   "metadata": {
    "collapsed": false
   },
   "outputs": [
    {
     "data": {
      "text/html": [
       "<div>\n",
       "<table border=\"1\" class=\"dataframe\">\n",
       "  <thead>\n",
       "    <tr style=\"text-align: right;\">\n",
       "      <th></th>\n",
       "      <th>FileName</th>\n",
       "      <th>FilmId</th>\n",
       "    </tr>\n",
       "  </thead>\n",
       "  <tbody>\n",
       "    <tr>\n",
       "      <th>0</th>\n",
       "      <td>./posters/22924.jpg</td>\n",
       "      <td>22924</td>\n",
       "    </tr>\n",
       "    <tr>\n",
       "      <th>1</th>\n",
       "      <td>./posters/14223.jpg</td>\n",
       "      <td>14223</td>\n",
       "    </tr>\n",
       "    <tr>\n",
       "      <th>2</th>\n",
       "      <td>./posters/18307.jpg</td>\n",
       "      <td>18307</td>\n",
       "    </tr>\n",
       "    <tr>\n",
       "      <th>3</th>\n",
       "      <td>./posters/27420.jpg</td>\n",
       "      <td>27420</td>\n",
       "    </tr>\n",
       "    <tr>\n",
       "      <th>4</th>\n",
       "      <td>./posters/19157.jpg</td>\n",
       "      <td>19157</td>\n",
       "    </tr>\n",
       "  </tbody>\n",
       "</table>\n",
       "</div>"
      ],
      "text/plain": [
       "              FileName  FilmId\n",
       "0  ./posters/22924.jpg   22924\n",
       "1  ./posters/14223.jpg   14223\n",
       "2  ./posters/18307.jpg   18307\n",
       "3  ./posters/27420.jpg   27420\n",
       "4  ./posters/19157.jpg   19157"
      ]
     },
     "execution_count": 11,
     "metadata": {},
     "output_type": "execute_result"
    }
   ],
   "source": [
    "# Data Dictionary\n",
    "postersmetadata = {'FileName' : posters , 'FilmId' : idlist}\n",
    "\n",
    "# Data Frame\n",
    "PostersData = pd.DataFrame(postersmetadata)\n",
    "\n",
    "# Display head\n",
    "PostersData.head()"
   ]
  },
  {
   "cell_type": "markdown",
   "metadata": {
    "collapsed": true,
    "deletable": true,
    "editable": true
   },
   "source": [
    "\n",
    "\n",
    "<br>\n",
    "#### Export List to csv\n",
    "\n",
    "\n",
    "<br>"
   ]
  },
  {
   "cell_type": "code",
   "execution_count": 12,
   "metadata": {
    "collapsed": true
   },
   "outputs": [],
   "source": [
    "PostersData.to_csv('PostersList_ALL.csv')"
   ]
  },
  {
   "cell_type": "code",
   "execution_count": 16,
   "metadata": {
    "collapsed": false
   },
   "outputs": [
    {
     "data": {
      "text/plain": [
       "array([28932, 11563, 23102, ..., 26119, 14169, 12501], dtype=int64)"
      ]
     },
     "execution_count": 16,
     "metadata": {},
     "output_type": "execute_result"
    }
   ],
   "source": [
    "genreDom = pd.read_csv('genre_bal.csv')\n",
    "\n",
    "ID = genreDom.ID.values\n",
    "\n"
   ]
  },
  {
   "cell_type": "code",
   "execution_count": 18,
   "metadata": {
    "collapsed": false
   },
   "outputs": [],
   "source": [
    "postDom = PostersData[PostersData['FilmId'].isin(ID)]"
   ]
  },
  {
   "cell_type": "code",
   "execution_count": 19,
   "metadata": {
    "collapsed": false
   },
   "outputs": [
    {
     "data": {
      "text/html": [
       "<div>\n",
       "<table border=\"1\" class=\"dataframe\">\n",
       "  <thead>\n",
       "    <tr style=\"text-align: right;\">\n",
       "      <th></th>\n",
       "      <th>FileName</th>\n",
       "      <th>FilmId</th>\n",
       "    </tr>\n",
       "  </thead>\n",
       "  <tbody>\n",
       "    <tr>\n",
       "      <th>0</th>\n",
       "      <td>./posters/22924.jpg</td>\n",
       "      <td>22924</td>\n",
       "    </tr>\n",
       "    <tr>\n",
       "      <th>1</th>\n",
       "      <td>./posters/14223.jpg</td>\n",
       "      <td>14223</td>\n",
       "    </tr>\n",
       "    <tr>\n",
       "      <th>3</th>\n",
       "      <td>./posters/27420.jpg</td>\n",
       "      <td>27420</td>\n",
       "    </tr>\n",
       "    <tr>\n",
       "      <th>5</th>\n",
       "      <td>./posters/12903.jpg</td>\n",
       "      <td>12903</td>\n",
       "    </tr>\n",
       "    <tr>\n",
       "      <th>6</th>\n",
       "      <td>./posters/23398.jpg</td>\n",
       "      <td>23398</td>\n",
       "    </tr>\n",
       "  </tbody>\n",
       "</table>\n",
       "</div>"
      ],
      "text/plain": [
       "              FileName  FilmId\n",
       "0  ./posters/22924.jpg   22924\n",
       "1  ./posters/14223.jpg   14223\n",
       "3  ./posters/27420.jpg   27420\n",
       "5  ./posters/12903.jpg   12903\n",
       "6  ./posters/23398.jpg   23398"
      ]
     },
     "execution_count": 19,
     "metadata": {},
     "output_type": "execute_result"
    }
   ],
   "source": [
    "postDom.head()"
   ]
  },
  {
   "cell_type": "code",
   "execution_count": 22,
   "metadata": {
    "collapsed": false
   },
   "outputs": [],
   "source": [
    "postDom.to_csv('PostersList_Dom.csv')"
   ]
  },
  {
   "cell_type": "code",
   "execution_count": null,
   "metadata": {
    "collapsed": true
   },
   "outputs": [],
   "source": []
  }
 ],
 "metadata": {
  "anaconda-cloud": {},
  "kernelspec": {
   "display_name": "Python [default]",
   "language": "python",
   "name": "python2"
  },
  "language_info": {
   "codemirror_mode": {
    "name": "ipython",
    "version": 2
   },
   "file_extension": ".py",
   "mimetype": "text/x-python",
   "name": "python",
   "nbconvert_exporter": "python",
   "pygments_lexer": "ipython2",
   "version": "2.7.12"
  }
 },
 "nbformat": 4,
 "nbformat_minor": 2
}
