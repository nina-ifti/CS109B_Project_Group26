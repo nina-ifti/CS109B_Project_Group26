{
 "cells": [
  {
   "cell_type": "markdown",
   "metadata": {
    "deletable": true,
    "editable": true
   },
   "source": [
    "### Import Modules\n",
    "\n",
    "<br>"
   ]
  },
  {
   "cell_type": "code",
   "execution_count": 1,
   "metadata": {
    "collapsed": false,
    "deletable": true,
    "editable": true,
    "scrolled": true
   },
   "outputs": [
    {
     "name": "stderr",
     "output_type": "stream",
     "text": [
      "Using TensorFlow backend.\n"
     ]
    }
   ],
   "source": [
    "import requests\n",
    "import json\n",
    "import time\n",
    "import itertools\n",
    "import wget\n",
    "import os\n",
    "import pickle\n",
    "import numpy as np\n",
    "\n",
    "import random\n",
    "import matplotlib\n",
    "import matplotlib.pyplot as plt\n",
    "%matplotlib inline\n",
    "\n",
    "import seaborn as sns\n",
    "from sklearn.cluster.bicluster import SpectralCoclustering\n",
    "from sklearn.metrics import precision_recall_curve\n",
    "import scipy\n",
    "\n",
    "sns.set_style('white')\n",
    "import tensorflow as tf\n",
    "import pandas as pd\n",
    "import keras\n",
    "from keras.applications.vgg16 import VGG16\n",
    "from keras.callbacks import LearningRateScheduler\n",
    "from keras import callbacks\n",
    "from keras import regularizers as reg\n",
    "from keras.optimizers import SGD, Adam\n",
    "from keras.models import Sequential , Model , load_model\n",
    "from keras.layers import Dense, Dropout, Flatten, Input, GlobalAveragePooling2D\n",
    "from keras.layers import Conv2D, MaxPooling2D\n",
    "from keras.layers.normalization import BatchNormalization\n",
    "import keras.initializers as init\n",
    "from keras.preprocessing.image import ImageDataGenerator\n",
    "from keras import backend as K\n",
    "from keras.models import load_model"
   ]
  },
  {
   "cell_type": "markdown",
   "metadata": {
    "deletable": true,
    "editable": true
   },
   "source": [
    "\n",
    "\n",
    "<br>\n",
    "### Open the Preprocessed Poster Data\n",
    "\n",
    "<br>\n",
    "Image data is stored in a numpy format and existing on a pickle dump file\n",
    "\n",
    "<br>"
   ]
  },
  {
   "cell_type": "code",
   "execution_count": 2,
   "metadata": {
    "collapsed": false,
    "deletable": true,
    "editable": true
   },
   "outputs": [],
   "source": [
    "x_test_dict = pickle.load(open('test_num.pik' , 'rb'))"
   ]
  },
  {
   "cell_type": "markdown",
   "metadata": {
    "deletable": true,
    "editable": true
   },
   "source": [
    "\n",
    "\n",
    "<br>\n",
    "### Extract data\n",
    "\n",
    "<br>"
   ]
  },
  {
   "cell_type": "code",
   "execution_count": 3,
   "metadata": {
    "collapsed": false,
    "deletable": true,
    "editable": true
   },
   "outputs": [],
   "source": [
    "# Extract the input arrays from the data container\n",
    "x_test_raw = x_test_dict['images']\n",
    "\n",
    "# transform into numpy array\n",
    "x_test  = np.array(x_test_raw)\n"
   ]
  },
  {
   "cell_type": "markdown",
   "metadata": {
    "deletable": true,
    "editable": true
   },
   "source": [
    "\n",
    "\n",
    "<br>\n",
    "### Prepare Data for input\n",
    "\n",
    "<br>\n",
    " - Determine the data axis order according tothe keras configuration\n",
    " - Define the input and its attributes\n",
    " - Center input data and ensure its type as float \n",
    " - Pre-process labels\n",
    " \n",
    " <br>\n",
    " \n",
    "** 1 - Arrange Data for Input:**\n",
    "\n",
    "<br>"
   ]
  },
  {
   "cell_type": "code",
   "execution_count": 4,
   "metadata": {
    "collapsed": false,
    "deletable": true,
    "editable": true
   },
   "outputs": [],
   "source": [
    "# Define the image number of rows\n",
    "img_rows = x_test.shape[1]\n",
    "\n",
    "# Dfine the image number of columns\n",
    "img_cols = x_test.shape[2]\n",
    "\n",
    "# Re-arrange if channels first configuration\n",
    "if K.image_data_format() == 'channels_first':\n",
    "    x_test = x_test.reshape(x_test.shape[0], 3, img_rows, img_cols)\n",
    "    \n",
    "    # Define Input Shape\n",
    "    input_shape = (3, img_rows, img_cols)\n",
    "\n",
    "# Re-arrange if channels last configuration\n",
    "else:\n",
    "    x_test = x_test.reshape(x_test.shape[0], img_rows, img_cols, 3)\n",
    "    \n",
    "    # Define Input shape\n",
    "    input_shape = (img_rows, img_cols, 3)"
   ]
  },
  {
   "cell_type": "markdown",
   "metadata": {
    "deletable": true,
    "editable": true
   },
   "source": [
    "\n",
    "<br>\n",
    "** 2 - Pre-process Data: **\n",
    "\n",
    "<br>"
   ]
  },
  {
   "cell_type": "code",
   "execution_count": 5,
   "metadata": {
    "collapsed": false,
    "deletable": true,
    "editable": true
   },
   "outputs": [
    {
     "name": "stdout",
     "output_type": "stream",
     "text": [
      "x_test shape: (1001, 128, 85, 3)\n",
      "1001 test samples\n"
     ]
    }
   ],
   "source": [
    "# Transform to float\n",
    "x_test  = x_test.astype('float32')\n",
    "\n",
    "# Center the data\n",
    "x_test  /= 255.0\n",
    "\n",
    "# Display test data attributes\n",
    "print 'x_test shape:', x_test.shape\n",
    "print  x_test.shape[0], 'test samples'"
   ]
  },
  {
   "cell_type": "markdown",
   "metadata": {
    "deletable": true,
    "editable": true
   },
   "source": [
    "\n",
    "<br>\n",
    "** 3 - Output Data Pre-processing : **\n",
    "\n",
    "<br>"
   ]
  },
  {
   "cell_type": "code",
   "execution_count": 6,
   "metadata": {
    "collapsed": false,
    "deletable": true,
    "editable": true
   },
   "outputs": [
    {
     "name": "stdout",
     "output_type": "stream",
     "text": [
      "number of classes:   14\n"
     ]
    }
   ],
   "source": [
    "# Extract Labels from File\n",
    "y_raw = pd.read_csv('Genres_labels_All_test_cleaned2.csv')\n",
    "\n",
    "# Split into train and test\n",
    "y_test  = y_raw.iloc[:, 1:-1].values\n",
    "\n",
    "# Define the number of classes\n",
    "num_classes = y_test.shape[1]\n",
    "\n",
    "print 'number of classes:  ' , num_classes"
   ]
  },
  {
   "cell_type": "markdown",
   "metadata": {
    "deletable": true,
    "editable": true
   },
   "source": [
    "\n",
    "<br>\n",
    "### Model Construction\n",
    "\n",
    "\n",
    "<br>\n",
    "** 1 - Import model: **\n",
    "\n",
    "<br>"
   ]
  },
  {
   "cell_type": "code",
   "execution_count": 7,
   "metadata": {
    "collapsed": false,
    "deletable": true,
    "editable": true
   },
   "outputs": [],
   "source": [
    "model = load_model('encode1.h5')"
   ]
  },
  {
   "cell_type": "markdown",
   "metadata": {
    "deletable": true,
    "editable": true
   },
   "source": [
    "\n",
    "<br>\n",
    "** 2 - Perform Evaluation: **\n",
    "\n",
    "<br>"
   ]
  },
  {
   "cell_type": "code",
   "execution_count": null,
   "metadata": {
    "collapsed": false,
    "deletable": true,
    "editable": true
   },
   "outputs": [],
   "source": [
    "loss , overall_acc = model.evaluate(x_test , y_test , batch_size = 16 , verbose = 1)"
   ]
  },
  {
   "cell_type": "code",
   "execution_count": null,
   "metadata": {
    "collapsed": false,
    "deletable": true,
    "editable": true
   },
   "outputs": [],
   "source": [
    "overall_acc"
   ]
  },
  {
   "cell_type": "markdown",
   "metadata": {
    "deletable": true,
    "editable": true
   },
   "source": [
    "\n",
    "<br>\n",
    "** 3 - Perform prediction:**\n",
    "\n",
    "<br>"
   ]
  },
  {
   "cell_type": "code",
   "execution_count": null,
   "metadata": {
    "collapsed": false,
    "deletable": true,
    "editable": true
   },
   "outputs": [],
   "source": [
    "y_predict = model.predict(x_test , batch_size = 16 , verbose = 1)"
   ]
  },
  {
   "cell_type": "code",
   "execution_count": null,
   "metadata": {
    "collapsed": true,
    "deletable": true,
    "editable": true
   },
   "outputs": [],
   "source": [
    "# Calculate absolute error\n",
    "abs_err = np.abs(y_test - y_predict)\n",
    "\n",
    "# Calculate pprediction proximity measure (1 - absolute error) for visualization\n",
    "prox = 1.0 - abs_err"
   ]
  },
  {
   "cell_type": "markdown",
   "metadata": {
    "deletable": true,
    "editable": true
   },
   "source": [
    "\n",
    "<br>\n",
    "### Export Results to File:\n",
    "\n",
    "<br>\n",
    "** 1 - Export prediction : **\n",
    "\n",
    "<br>"
   ]
  },
  {
   "cell_type": "code",
   "execution_count": null,
   "metadata": {
    "collapsed": false,
    "deletable": true,
    "editable": true
   },
   "outputs": [],
   "source": [
    "# Construct data frame\n",
    "proxdf = pd.DataFrame(prox , columns = y_raw.columns[1:-1]).iloc[:100 , :]\n",
    "\n",
    "proxdf.head()"
   ]
  },
  {
   "cell_type": "code",
   "execution_count": null,
   "metadata": {
    "collapsed": true,
    "deletable": true,
    "editable": true
   },
   "outputs": [],
   "source": [
    "\n",
    "# Write to File\n",
    "proxdf.to_csv('encode_prox.csv')"
   ]
  },
  {
   "cell_type": "markdown",
   "metadata": {
    "collapsed": false,
    "deletable": true,
    "editable": true
   },
   "source": [
    "\n",
    "<br>\n",
    "** 2 - Export proximity **\n",
    "\n",
    "<br>"
   ]
  },
  {
   "cell_type": "code",
   "execution_count": null,
   "metadata": {
    "collapsed": false,
    "deletable": true,
    "editable": true
   },
   "outputs": [],
   "source": [
    "# Construct data frame\n",
    "y_preddf = pd.DataFrame(y_predict , columns = y_raw.columns[1:-1])\n",
    "\n",
    "# Export File\n",
    "y_preddf.to_csv('encodepred.csv')"
   ]
  },
  {
   "cell_type": "code",
   "execution_count": null,
   "metadata": {
    "collapsed": false,
    "deletable": true,
    "editable": true
   },
   "outputs": [],
   "source": []
  },
  {
   "cell_type": "code",
   "execution_count": null,
   "metadata": {
    "collapsed": true,
    "deletable": true,
    "editable": true
   },
   "outputs": [],
   "source": []
  },
  {
   "cell_type": "code",
   "execution_count": null,
   "metadata": {
    "collapsed": true,
    "deletable": true,
    "editable": true
   },
   "outputs": [],
   "source": []
  },
  {
   "cell_type": "code",
   "execution_count": null,
   "metadata": {
    "collapsed": true,
    "deletable": true,
    "editable": true
   },
   "outputs": [],
   "source": []
  }
 ],
 "metadata": {
  "anaconda-cloud": {},
  "kernelspec": {
   "display_name": "Python 2",
   "language": "python",
   "name": "python2"
  },
  "language_info": {
   "codemirror_mode": {
    "name": "ipython",
    "version": 2
   },
   "file_extension": ".py",
   "mimetype": "text/x-python",
   "name": "python",
   "nbconvert_exporter": "python",
   "pygments_lexer": "ipython2",
   "version": "2.7.12"
  }
 },
 "nbformat": 4,
 "nbformat_minor": 2
}
