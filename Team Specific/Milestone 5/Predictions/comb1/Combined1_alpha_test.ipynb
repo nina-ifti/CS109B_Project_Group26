{
 "cells": [
  {
   "cell_type": "markdown",
   "metadata": {
    "deletable": true,
    "editable": true
   },
   "source": [
    "### Import Modules\n",
    "\n",
    "<br>"
   ]
  },
  {
   "cell_type": "code",
   "execution_count": 1,
   "metadata": {
    "collapsed": false,
    "deletable": true,
    "editable": true,
    "scrolled": true
   },
   "outputs": [
    {
     "name": "stderr",
     "output_type": "stream",
     "text": [
      "Using TensorFlow backend.\n"
     ]
    }
   ],
   "source": [
    "import requests\n",
    "import json\n",
    "import time\n",
    "import itertools\n",
    "import wget\n",
    "import os\n",
    "import pickle\n",
    "import numpy as np\n",
    "\n",
    "import random\n",
    "import matplotlib\n",
    "import matplotlib.pyplot as plt\n",
    "%matplotlib inline\n",
    "\n",
    "import seaborn as sns\n",
    "from sklearn.cluster.bicluster import SpectralCoclustering\n",
    "from sklearn.metrics import precision_recall_curve\n",
    "import scipy\n",
    "\n",
    "sns.set_style('white')\n",
    "import tensorflow as tf\n",
    "import pandas as pd\n",
    "import keras\n",
    "from keras.applications.vgg16 import VGG16\n",
    "from keras.callbacks import LearningRateScheduler\n",
    "from keras import callbacks\n",
    "from keras import regularizers as reg\n",
    "from keras.optimizers import SGD, Adam\n",
    "from keras.models import Sequential , Model , load_model\n",
    "from keras.layers import Dense, Dropout, Flatten, Input, concatenate\n",
    "from keras.layers import Conv2D, MaxPooling2D\n",
    "from keras.layers.normalization import BatchNormalization\n",
    "import keras.initializers as init\n",
    "from keras.preprocessing.image import ImageDataGenerator\n",
    "from keras import backend as K\n",
    "from keras.models import load_model"
   ]
  },
  {
   "cell_type": "markdown",
   "metadata": {
    "deletable": true,
    "editable": true
   },
   "source": [
    "\n",
    "\n",
    "<br>\n",
    "### Open the Preprocessed Poster Data\n",
    "\n",
    "<br>\n",
    "Image data is stored in a numpy format and existing on a pickle dump file and numerical features in a csv file\n",
    "\n",
    "<br>\n",
    "** 1 - Image Features:**\n",
    "\n",
    "<br>"
   ]
  },
  {
   "cell_type": "code",
   "execution_count": 2,
   "metadata": {
    "collapsed": false,
    "deletable": true,
    "editable": true
   },
   "outputs": [],
   "source": [
    "x_test_dict = pickle.load(open('test_num.pik' , 'rb'))"
   ]
  },
  {
   "cell_type": "markdown",
   "metadata": {
    "deletable": true,
    "editable": true
   },
   "source": [
    "\n",
    "<br>\n",
    "** 2 - Color Numerical Features: **\n",
    "\n",
    "<br>"
   ]
  },
  {
   "cell_type": "code",
   "execution_count": 3,
   "metadata": {
    "collapsed": true,
    "deletable": true,
    "editable": true
   },
   "outputs": [],
   "source": [
    "# Open File\n",
    "x_test_raw = pd.read_csv('Features_test.csv')\n",
    "\n",
    "# Select features\n",
    "# x_data = x_train_raw.loc[: , ['mR' , 'mG' , 'mB' , 'vardR' , 'vardG' , 'vardB' , 'De1' , 'De2' , 'De3']].values\n",
    "x_data = x_test_raw.loc[: , ['mR' , 'mG' , 'mB' , 'stdR' , 'stdG' , 'stdB' , 'Dc1' , 'Dc2' , 'Dc3']].values"
   ]
  },
  {
   "cell_type": "markdown",
   "metadata": {
    "deletable": true,
    "editable": true
   },
   "source": [
    "\n",
    "\n",
    "<br>\n",
    "### Specify the training/test split\n",
    "\n",
    "<br>\n",
    " - The data will be split into training and test for validation purpose\n",
    " - Data augmentation will be subsequently applied for both training and test\n",
    " \n",
    " <br>"
   ]
  },
  {
   "cell_type": "code",
   "execution_count": 6,
   "metadata": {
    "collapsed": false,
    "deletable": true,
    "editable": true
   },
   "outputs": [
    {
     "name": "stdout",
     "output_type": "stream",
     "text": [
      "Image Data Shape :  (1001, 128, 85, 3)\n",
      "Numerical Data Shape :  (1001, 9)\n"
     ]
    }
   ],
   "source": [
    "\n",
    "# Define training/test data for image data:\n",
    "# -----------------------------------------\n",
    "# Extract the input arrays from the data container\n",
    "xi_test_raw = x_test_dict['images']\n",
    "\n",
    "# Apply the test / train split\n",
    "xi_test  = np.array(xi_test_raw)\n",
    "\n",
    "\n",
    "# Define test data for numerical data:\n",
    "# ------------------------------------\n",
    "# Apply the test / train split\n",
    "xn_test  = x_data\n",
    "\n",
    "print 'Image Data Shape : ' , xi_test.shape\n",
    "print 'Numerical Data Shape : ' , xn_test.shape\n"
   ]
  },
  {
   "cell_type": "markdown",
   "metadata": {
    "deletable": true,
    "editable": true
   },
   "source": [
    "\n",
    "\n",
    "<br>\n",
    "### Prepare Data for input\n",
    "\n",
    "<br>\n",
    " - Determine the data axis order according tothe keras configuration\n",
    " - Define the input and its attributes\n",
    " - Center input data and ensure its type as float \n",
    " - Pre-process labels\n",
    " \n",
    " <br>\n",
    " \n",
    "** 1 - Arrange Data for Input:**\n",
    "\n",
    "<br>\n",
    "\n",
    "** a - Image Data **\n",
    "\n",
    "<br>"
   ]
  },
  {
   "cell_type": "code",
   "execution_count": 7,
   "metadata": {
    "collapsed": true,
    "deletable": true,
    "editable": true
   },
   "outputs": [],
   "source": [
    "# Define the image number of rows\n",
    "img_rows = xi_test.shape[1]\n",
    "\n",
    "# Dfine the image number of columns\n",
    "img_cols = xi_test.shape[2]\n",
    "\n",
    "# Re-arrange if channels first configuration\n",
    "if K.image_data_format() == 'channels_first':\n",
    "    xi_test = xi_test.reshape(xi_test.shape[0], 3, img_rows, img_cols)\n",
    "    \n",
    "    # Define Input Shape\n",
    "    input_shape = (3, img_rows, img_cols)\n",
    "\n",
    "# Re-arrange if channels last configuration\n",
    "else:\n",
    "    xi_test = xi_test.reshape(xi_test.shape[0], img_rows, img_cols, 3)\n",
    "    \n",
    "    # Define Input shape\n",
    "    input_shape = (img_rows, img_cols, 3)\n"
   ]
  },
  {
   "cell_type": "markdown",
   "metadata": {
    "deletable": true,
    "editable": true
   },
   "source": [
    "\n",
    "\n",
    "<br>\n",
    "** b - Numerical Data:**\n",
    "\n",
    "<br>"
   ]
  },
  {
   "cell_type": "code",
   "execution_count": 8,
   "metadata": {
    "collapsed": true,
    "deletable": true,
    "editable": true
   },
   "outputs": [],
   "source": [
    "# Dfine the data number of columns\n",
    "dat_cols = xn_test.shape[1]\n"
   ]
  },
  {
   "cell_type": "markdown",
   "metadata": {
    "deletable": true,
    "editable": true
   },
   "source": [
    "\n",
    "<br>\n",
    "** 2 - Pre-process Data: **\n",
    "\n",
    "<br>"
   ]
  },
  {
   "cell_type": "code",
   "execution_count": 9,
   "metadata": {
    "collapsed": false,
    "deletable": true,
    "editable": true
   },
   "outputs": [
    {
     "name": "stdout",
     "output_type": "stream",
     "text": [
      "Image Test shape: (1001, 128, 85, 3)\n",
      "1001 test samples\n",
      "Numeric Test shape: (1001, 9)\n",
      "1001 test samples\n"
     ]
    }
   ],
   "source": [
    "# Image Data:\n",
    "# ----------\n",
    "\n",
    "# Transform to float\n",
    "xi_test  = xi_test.astype('float32')\n",
    "\n",
    "# Center the data\n",
    "xi_test  /= 255.0\n",
    "\n",
    "# Numerical Data:\n",
    "# ---------------\n",
    "\n",
    "# Transform to float\n",
    "xn_test  = xn_test.astype('float32')\n",
    "\n",
    "# Center the data\n",
    "xn_test  -= xn_test.mean(0)\n",
    "\n",
    "# Scale the data\n",
    "xn_test  /= xn_test.std(0)\n",
    "\n",
    "\n",
    "\n",
    "# Display image train Data attributes\n",
    "print 'Image Test shape:', xi_test.shape\n",
    "print  xi_test.shape[0], 'test samples'\n",
    "\n",
    "# Display numeric train data attributes\n",
    "print 'Numeric Test shape:', xn_test.shape\n",
    "print  xn_test.shape[0], 'test samples'"
   ]
  },
  {
   "cell_type": "markdown",
   "metadata": {
    "deletable": true,
    "editable": true
   },
   "source": [
    "\n",
    "<br>\n",
    "** 3 - Output Data Pre-processing : **\n",
    "\n",
    "<br>"
   ]
  },
  {
   "cell_type": "code",
   "execution_count": 10,
   "metadata": {
    "collapsed": false,
    "deletable": true,
    "editable": true
   },
   "outputs": [
    {
     "name": "stdout",
     "output_type": "stream",
     "text": [
      "number of classes:   14\n"
     ]
    }
   ],
   "source": [
    "# Extract Labels from File\n",
    "y_raw = pd.read_csv('Genres_labels_All_test_cleaned2.csv')\n",
    "\n",
    "# Split into train and test\n",
    "y_test  = y_raw.iloc[:, 1:-1].values\n",
    "\n",
    "# Define the number of classes\n",
    "num_classes = y_test.shape[1]\n",
    "\n",
    "print 'number of classes:  ' , num_classes"
   ]
  },
  {
   "cell_type": "markdown",
   "metadata": {
    "deletable": true,
    "editable": true
   },
   "source": [
    "\n",
    "<br>\n",
    "### Model Construction\n",
    "\n",
    "<br>\n",
    " - Upload model\n",
    " - Evaluate and predict\n",
    "\n",
    "<br>\n",
    "** 1 - Load Model: **\n",
    "\n",
    "<br>"
   ]
  },
  {
   "cell_type": "code",
   "execution_count": 11,
   "metadata": {
    "collapsed": true,
    "deletable": true,
    "editable": true
   },
   "outputs": [],
   "source": [
    "model = load_model('comb1.h5')"
   ]
  },
  {
   "cell_type": "markdown",
   "metadata": {
    "deletable": true,
    "editable": true
   },
   "source": [
    "\n",
    "<br>\n",
    "** 2 -Evaluate model Model:**\n",
    "\n",
    "<br>"
   ]
  },
  {
   "cell_type": "code",
   "execution_count": null,
   "metadata": {
    "collapsed": false,
    "deletable": true,
    "editable": true
   },
   "outputs": [],
   "source": [
    "loss , overall_acc = model.evaluate({'imag_in' : xi_test , 'num_in' : xn_test } , {'comb_out' : y_test} , \n",
    "                                    batch_size = 16 , verbose = 1)"
   ]
  },
  {
   "cell_type": "code",
   "execution_count": null,
   "metadata": {
    "collapsed": true
   },
   "outputs": [],
   "source": [
    "overall_acc"
   ]
  },
  {
   "cell_type": "markdown",
   "metadata": {
    "deletable": true,
    "editable": true
   },
   "source": [
    "\n",
    "<br>\n",
    "** 3 - generate pridictions:**\n",
    "\n",
    "<br>"
   ]
  },
  {
   "cell_type": "code",
   "execution_count": null,
   "metadata": {
    "collapsed": false,
    "deletable": true,
    "editable": true
   },
   "outputs": [],
   "source": [
    "y_predict = model.predict({'imag_in' : xi_test , 'num_in' : xn_test } , batch_size = 16 , verbose = 1)"
   ]
  },
  {
   "cell_type": "code",
   "execution_count": null,
   "metadata": {
    "collapsed": true
   },
   "outputs": [],
   "source": [
    "# Calculate absolute error\n",
    "abs_err = np.abs(y_test - y_predict)\n",
    "\n",
    "# Calculate pprediction proximity measure (1 - absolute error) for visualization\n",
    "prox = 1.0 - abs_err"
   ]
  },
  {
   "cell_type": "markdown",
   "metadata": {
    "deletable": true,
    "editable": true
   },
   "source": [
    "\n",
    "<br>\n",
    "### Export Results to File:\n",
    "\n",
    "<br>\n",
    "** 1 - Export proximity : **\n",
    "\n",
    "<br>"
   ]
  },
  {
   "cell_type": "code",
   "execution_count": null,
   "metadata": {
    "collapsed": true,
    "deletable": true,
    "editable": true
   },
   "outputs": [],
   "source": [
    "# Construct data frame\n",
    "proxdf = pd.DataFrame(prox , columns = y_raw.columns[1:-1]).iloc[:100 , :]\n",
    "\n",
    "proxdf.head()"
   ]
  },
  {
   "cell_type": "code",
   "execution_count": null,
   "metadata": {
    "collapsed": true
   },
   "outputs": [],
   "source": [
    "\n",
    "# Write to File\n",
    "proxdf.to_csv('encode_prox.csv')"
   ]
  },
  {
   "cell_type": "markdown",
   "metadata": {
    "collapsed": false,
    "deletable": true,
    "editable": true
   },
   "source": [
    "\n",
    "<br>\n",
    "** 2 - Export Prediction **\n",
    "\n",
    "<br>"
   ]
  },
  {
   "cell_type": "code",
   "execution_count": null,
   "metadata": {
    "collapsed": false,
    "deletable": true,
    "editable": true
   },
   "outputs": [],
   "source": [
    "# Construct data frame\n",
    "y_preddf = pd.DataFrame(y_predict , columns = y_raw.columns[1:-1])\n",
    "\n",
    "# Export File\n",
    "y_preddf.to_csv('encodepred.csv')"
   ]
  },
  {
   "cell_type": "code",
   "execution_count": null,
   "metadata": {
    "collapsed": false,
    "deletable": true,
    "editable": true
   },
   "outputs": [],
   "source": []
  },
  {
   "cell_type": "code",
   "execution_count": null,
   "metadata": {
    "collapsed": true,
    "deletable": true,
    "editable": true
   },
   "outputs": [],
   "source": []
  },
  {
   "cell_type": "code",
   "execution_count": null,
   "metadata": {
    "collapsed": true,
    "deletable": true,
    "editable": true
   },
   "outputs": [],
   "source": []
  },
  {
   "cell_type": "code",
   "execution_count": null,
   "metadata": {
    "collapsed": true,
    "deletable": true,
    "editable": true
   },
   "outputs": [],
   "source": []
  }
 ],
 "metadata": {
  "anaconda-cloud": {},
  "kernelspec": {
   "display_name": "Python 2",
   "language": "python",
   "name": "python2"
  },
  "language_info": {
   "codemirror_mode": {
    "name": "ipython",
    "version": 2
   },
   "file_extension": ".py",
   "mimetype": "text/x-python",
   "name": "python",
   "nbconvert_exporter": "python",
   "pygments_lexer": "ipython2",
   "version": "2.7.12"
  }
 },
 "nbformat": 4,
 "nbformat_minor": 2
}
