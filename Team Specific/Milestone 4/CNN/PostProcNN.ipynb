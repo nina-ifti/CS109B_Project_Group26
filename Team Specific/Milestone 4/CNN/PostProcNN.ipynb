{
 "cells": [
  {
   "cell_type": "markdown",
   "metadata": {},
   "source": [
    "# Posters Data Transformation \n",
    "\n",
    "\n",
    "\n",
    "<br>"
   ]
  },
  {
   "cell_type": "code",
   "execution_count": 1,
   "metadata": {
    "collapsed": false,
    "deletable": true,
    "editable": true,
    "scrolled": true
   },
   "outputs": [],
   "source": [
    "\n",
    "import time\n",
    "import itertools\n",
    "import wget\n",
    "import os\n",
    "import png\n",
    "import pickle\n",
    "import numpy as np\n",
    "import tmdbsimple as tmdb\n",
    "import time\n",
    "import sys\n",
    "from PIL import Image , ImageFile\n",
    "\n",
    "import random\n",
    "import matplotlib\n",
    "import matplotlib.pyplot as plt\n",
    "%matplotlib inline\n",
    "\n",
    "import seaborn as sns\n",
    "from sklearn.cluster.bicluster import SpectralCoclustering\n",
    "from sklearn.metrics import precision_recall_curve\n",
    "import scipy as sp\n",
    "\n",
    "sns.set_style('white')\n",
    "import pandas as pd\n"
   ]
  },
  {
   "cell_type": "markdown",
   "metadata": {
    "deletable": true,
    "editable": true
   },
   "source": [
    "### Read Files"
   ]
  },
  {
   "cell_type": "markdown",
   "metadata": {
    "deletable": true,
    "editable": true
   },
   "source": [
    "### Acquiring Data:\n",
    "\n",
    "\n",
    "<br>"
   ]
  },
  {
   "cell_type": "markdown",
   "metadata": {
    "deletable": true,
    "editable": true
   },
   "source": [
    "#### 1- Loading Files\n",
    "\n",
    "\n",
    "<br>"
   ]
  },
  {
   "cell_type": "code",
   "execution_count": 3,
   "metadata": {
    "collapsed": false,
    "deletable": true,
    "editable": true
   },
   "outputs": [
    {
     "data": {
      "text/html": [
       "<div>\n",
       "<table border=\"1\" class=\"dataframe\">\n",
       "  <thead>\n",
       "    <tr style=\"text-align: right;\">\n",
       "      <th></th>\n",
       "      <th>Unnamed: 0</th>\n",
       "      <th>FileName</th>\n",
       "      <th>FilmId</th>\n",
       "    </tr>\n",
       "  </thead>\n",
       "  <tbody>\n",
       "    <tr>\n",
       "      <th>0</th>\n",
       "      <td>0</td>\n",
       "      <td>./posters/22924.jpg</td>\n",
       "      <td>22924</td>\n",
       "    </tr>\n",
       "    <tr>\n",
       "      <th>1</th>\n",
       "      <td>1</td>\n",
       "      <td>./posters/14223.jpg</td>\n",
       "      <td>14223</td>\n",
       "    </tr>\n",
       "    <tr>\n",
       "      <th>2</th>\n",
       "      <td>2</td>\n",
       "      <td>./posters/18307.jpg</td>\n",
       "      <td>18307</td>\n",
       "    </tr>\n",
       "    <tr>\n",
       "      <th>3</th>\n",
       "      <td>3</td>\n",
       "      <td>./posters/27420.jpg</td>\n",
       "      <td>27420</td>\n",
       "    </tr>\n",
       "    <tr>\n",
       "      <th>4</th>\n",
       "      <td>4</td>\n",
       "      <td>./posters/19157.jpg</td>\n",
       "      <td>19157</td>\n",
       "    </tr>\n",
       "  </tbody>\n",
       "</table>\n",
       "</div>"
      ],
      "text/plain": [
       "   Unnamed: 0             FileName  FilmId\n",
       "0           0  ./posters/22924.jpg   22924\n",
       "1           1  ./posters/14223.jpg   14223\n",
       "2           2  ./posters/18307.jpg   18307\n",
       "3           3  ./posters/27420.jpg   27420\n",
       "4           4  ./posters/19157.jpg   19157"
      ]
     },
     "execution_count": 3,
     "metadata": {},
     "output_type": "execute_result"
    }
   ],
   "source": [
    "# Reading labels\n",
    "Labels = pd.read_csv('Genres_labels_All.csv')\n",
    "\n",
    "# Reading Poster File\n",
    "PostList = pd.read_csv('PostersList_ALL.csv')\n",
    "\n",
    "# Display a sample\n",
    "PostList.head()"
   ]
  },
  {
   "cell_type": "markdown",
   "metadata": {
    "deletable": true,
    "editable": true
   },
   "source": [
    "#### 2- Transforming the Data\n",
    "\n",
    "<br>"
   ]
  },
  {
   "cell_type": "code",
   "execution_count": 4,
   "metadata": {
    "collapsed": false,
    "deletable": true,
    "editable": true,
    "scrolled": false
   },
   "outputs": [],
   "source": [
    "# Extract the movie list length\n",
    "Shape = PostList.shape\n",
    "\n",
    "# Extract the movie id number\n",
    "Ids = PostList.FilmId.values"
   ]
  },
  {
   "cell_type": "code",
   "execution_count": 5,
   "metadata": {
    "collapsed": false,
    "deletable": true,
    "editable": true
   },
   "outputs": [
    {
     "name": "stdout",
     "output_type": "stream",
     "text": [
      " Step: 9987 , id 22289"
     ]
    }
   ],
   "source": [
    "# Open All Movie posters files\n",
    "ImageFile.LOAD_TRUNCATED_IMAGES = True\n",
    "\n",
    "# Initiate the image matrix lis\n",
    "posters_arr_train = []\n",
    "\n",
    "# Initiate the poster object array\n",
    "posters_train = []\n",
    "\n",
    "# Open posters files and transfere them to a fixed dimension thumbnails\n",
    "for i in range(Shape[0]):\n",
    "    \n",
    "    # Define the file name\n",
    "    movie = PostList.iloc[i,1]\n",
    "    \n",
    "    # Open the poster\n",
    "    post = Image.open(movie)\n",
    "    \n",
    "    # Get the movie id\n",
    "    mvid = Ids[i]\n",
    "    \n",
    "    # Adjust the size to the 500 x 750 nominal\n",
    "    post_t = post.crop((0,0,500,750))\n",
    "    \n",
    "    # Transform into a thumbnail\n",
    "    post_t.thumbnail((128,128))\n",
    "    \n",
    "#     Width.append(post_t.size[0])\n",
    "    \n",
    "#     Height.append(post_t.size[1])\n",
    "\n",
    "    # Perfom the channels transformation\n",
    "    post_ar = post_t.convert('RGB')\n",
    "    \n",
    "    # transform into np array\n",
    "    post_array = np.array(post_ar)\n",
    "    \n",
    "    # Specify the thumbnail file name to save it\n",
    "    post_t_fname = './posterst/' + str(mvid) +'_thmb' + '.jpg'\n",
    "    \n",
    "    # Save the thumbnail\n",
    "    post_t.save(post_t_fname , 'JPEG')\n",
    "    \n",
    "    # Construct the decomposed image list\n",
    "    posters_train.append(post_ar)\n",
    "    \n",
    "    # Construct the array image values list\n",
    "    posters_arr_train.append(post_array)\n",
    "    \n",
    "    # Progress display\n",
    "    time.sleep(0.1)\n",
    "    \n",
    "    sys.stdout.flush()\n",
    "    sys.stdout.write(\"\\r Step: {} , id {}\".format(i , mvid))"
   ]
  },
  {
   "cell_type": "code",
   "execution_count": null,
   "metadata": {
    "collapsed": false
   },
   "outputs": [],
   "source": [
    "## Create Pickle files:\n",
    "## ===================\n",
    "\n",
    "# A- Numeric Array:\n",
    "# -----------------\n",
    "\n",
    "# Construct a dictionary for the numerical values\n",
    "posters_num_dic = {'images' : posters_arr_train}\n",
    "\n",
    "# Open file and transfer data\n",
    "with open('training_num.pik' , 'wb') as f:\n",
    "    \n",
    "    # Dumping the data\n",
    "    pickle.dump(posters_num_dic , f)\n",
    "\n",
    "# close the file\n",
    "f.close()\n",
    "\n",
    "# B- Image Array:\n",
    "# ---------------\n",
    "\n",
    "# Construct a dictionar for the image data\n",
    "posters_im_dic = {'images' : posters_train}\n",
    "\n",
    "# Open a file for the image data\n",
    "with open('training_im.pik' , 'wb') as f2:\n",
    "    \n",
    "    # Dumping the data\n",
    "    pickle.dump(posters_im_dic , f2)\n",
    "    \n",
    "# Close the file\n",
    "f2.close()\n",
    "\n",
    "# pickle.dump(posters_dic , 'training.pik')"
   ]
  },
  {
   "cell_type": "code",
   "execution_count": null,
   "metadata": {
    "collapsed": false,
    "deletable": true,
    "editable": true
   },
   "outputs": [],
   "source": [
    "# Extracting the ids vector\n",
    "mvid = LabList['ID'].values\n",
    "\n",
    "# Initiate the features array\n",
    "features = []\n",
    "\n",
    "# Extract the features\n",
    "for i in range (1):\n",
    "    \n",
    "    # Extract the poster file\n",
    "    posterfile = PostList['FileName'].iloc[i]\n",
    "    \n",
    "    # Extract the movie id\n",
    "    mvid = PostList['FilmId'].iloc[i]\n",
    "    \n",
    "    # Calculate the poster vector\n",
    "    poster = image_vector(posterfile)\n",
    "    \n",
    "    # Initiate movie feature list\n",
    "    sing = []\n",
    "    \n",
    "    # Add Mean of RGB\n",
    "    sing.append(poster.mean(1)[0])\n",
    "    sing.append(poster.mean(1)[1])\n",
    "    sing.append(poster.mean(1)[2])\n",
    "    \n",
    "    # Add Standard deviation\n",
    "    sing.append(poster.std(1)[0])\n",
    "    sing.append(poster.std(1)[1])\n",
    "    sing.append(poster.std(1)[2])\n",
    "    \n",
    "    # Calculate the correlation distance\n",
    "    dist = sp.spatial.distance.pdist(poster , 'correlation')\n",
    "    \n",
    "    # Append the distance component\n",
    "    sing.append(dist[0])\n",
    "    sing.append(dist[1])\n",
    "    sing.append(dist[2])\n",
    "    \n",
    "    # Add movie ID\n",
    "    sing.append(mvid)\n",
    "    \n",
    "    # Append to the features array\n",
    "    features.append(sing)\n",
    "    \n",
    "    time.sleep(0.1)\n",
    "    \n",
    "    sys.stdout.flush()\n",
    "    sys.stdout.write(\"\\r Step: {} , id {}\".format(i , mvid))\n"
   ]
  },
  {
   "cell_type": "markdown",
   "metadata": {
    "deletable": true,
    "editable": true
   },
   "source": [
    "\n",
    "\n",
    "\n",
    "<br>\n",
    "#### Construct feature array\n",
    "\n",
    "<br>"
   ]
  },
  {
   "cell_type": "code",
   "execution_count": null,
   "metadata": {
    "collapsed": false,
    "deletable": true,
    "editable": true
   },
   "outputs": [],
   "source": [
    "# Construct the array\n",
    "featarray = np.array(features)\n",
    "\n",
    "featarray.shape"
   ]
  },
  {
   "cell_type": "markdown",
   "metadata": {
    "deletable": true,
    "editable": true
   },
   "source": [
    "\n",
    "\n",
    "<br>\n",
    "\n",
    "### Extract to Files\n",
    "\n",
    "<br>"
   ]
  },
  {
   "cell_type": "code",
   "execution_count": null,
   "metadata": {
    "collapsed": false,
    "deletable": true,
    "editable": true
   },
   "outputs": [],
   "source": [
    "# \n",
    "X_raw = featarray\n",
    "xdf = pd.DataFrame(featarray , columns = ['mR' , 'mG' , 'mB' , 'stdR' , 'stdG' , 'stdB' , 'D1' , 'D2' , 'D3' . 'ID'])\n",
    "xdf.to_csv('Features_Balanced.csv')\n",
    "# DataAll = pd.concat([xdf , PostList.FilmId] , 1)\n",
    "# DataAll.to_csv('Databalanced.csv')"
   ]
  },
  {
   "cell_type": "code",
   "execution_count": null,
   "metadata": {
    "collapsed": false,
    "deletable": true,
    "editable": true
   },
   "outputs": [],
   "source": []
  },
  {
   "cell_type": "code",
   "execution_count": null,
   "metadata": {
    "collapsed": true,
    "deletable": true,
    "editable": true
   },
   "outputs": [],
   "source": []
  }
 ],
 "metadata": {
  "anaconda-cloud": {},
  "kernelspec": {
   "display_name": "Python 2",
   "language": "python",
   "name": "python2"
  },
  "language_info": {
   "codemirror_mode": {
    "name": "ipython",
    "version": 2
   },
   "file_extension": ".py",
   "mimetype": "text/x-python",
   "name": "python",
   "nbconvert_exporter": "python",
   "pygments_lexer": "ipython2",
   "version": "2.7.12"
  }
 },
 "nbformat": 4,
 "nbformat_minor": 2
}
