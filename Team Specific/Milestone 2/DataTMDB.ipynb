{
 "cells": [
  {
   "cell_type": "markdown",
   "metadata": {
    "deletable": true,
    "editable": true
   },
   "source": [
    "# Data Acquisition Code\n",
    "\n",
    "<br>\n",
    "This code includes the necessary comand to acquire the data in addition to some helper function for the image analysis\n",
    "\n",
    "\n",
    "<br>\n",
    "\n",
    "## A - Data Acquisition\n",
    "\n",
    "\n",
    "<br>"
   ]
  },
  {
   "cell_type": "markdown",
   "metadata": {
    "deletable": true,
    "editable": true
   },
   "source": [
    "### Importing Modules\n",
    "\n",
    "\n",
    "<br>"
   ]
  },
  {
   "cell_type": "code",
   "execution_count": 1,
   "metadata": {
    "collapsed": false,
    "deletable": true,
    "editable": true,
    "scrolled": true
   },
   "outputs": [
    {
     "name": "stderr",
     "output_type": "stream",
     "text": [
      "Using TensorFlow backend.\n"
     ]
    }
   ],
   "source": [
    "import requests\n",
    "import json\n",
    "import time\n",
    "import itertools\n",
    "import wget\n",
    "import os\n",
    "import png\n",
    "import pickle\n",
    "import numpy as np\n",
    "import tmdbsimple as tmdb\n",
    "import imdb\n",
    "import time\n",
    "import sys\n",
    "import urllib\n",
    "from PIL import Image\n",
    "\n",
    "import random\n",
    "import matplotlib\n",
    "import matplotlib.pyplot as plt\n",
    "%matplotlib inline\n",
    "\n",
    "import seaborn as sns\n",
    "from sklearn.cluster.bicluster import SpectralCoclustering\n",
    "from sklearn.metrics import precision_recall_curve\n",
    "import scipy\n",
    "\n",
    "sns.set_style('white')\n",
    "import tensorflow as tf\n",
    "import pandas as pd\n",
    "import keras\n",
    "from imdb import IMDb\n",
    "from keras.models import Sequential\n",
    "from keras.layers import Dense,Dropout,Flatten\n",
    "from keras.layers import Conv2D, MaxPooling2D\n",
    "from keras import backend as k\n",
    "from keras.models import load_model"
   ]
  },
  {
   "cell_type": "markdown",
   "metadata": {
    "deletable": true,
    "editable": true
   },
   "source": [
    "### Importing ID File and Genres List\n",
    "\n",
    "<br>"
   ]
  },
  {
   "cell_type": "code",
   "execution_count": null,
   "metadata": {
    "collapsed": false,
    "deletable": true,
    "editable": true
   },
   "outputs": [],
   "source": [
    "# Importing Data file\n",
    "idsdf = pd.read_csv('randomID2.csv').iloc[9001:]\n",
    "\n",
    "# Importing Genres List\n",
    "gen_list = pd.read_csv('genres_TMDB.csv')\n",
    "\n",
    "# Printing a sample data\n",
    "idsdf.head()"
   ]
  },
  {
   "cell_type": "markdown",
   "metadata": {
    "deletable": true,
    "editable": true
   },
   "source": [
    "### Acquiring from TMDB:\n",
    "\n",
    "\n",
    "<br>"
   ]
  },
  {
   "cell_type": "markdown",
   "metadata": {
    "deletable": true,
    "editable": true
   },
   "source": [
    "#### 1- Specifying the IDs\n",
    "\n",
    "\n",
    "<br>"
   ]
  },
  {
   "cell_type": "code",
   "execution_count": null,
   "metadata": {
    "collapsed": true,
    "deletable": true,
    "editable": true
   },
   "outputs": [],
   "source": [
    "ids = idsdf.tmdb_id.values"
   ]
  },
  {
   "cell_type": "markdown",
   "metadata": {
    "deletable": true,
    "editable": true
   },
   "source": [
    "#### 2- Requesting the data\n",
    "\n",
    "<br>"
   ]
  },
  {
   "cell_type": "code",
   "execution_count": null,
   "metadata": {
    "collapsed": false,
    "deletable": true,
    "editable": true,
    "scrolled": false
   },
   "outputs": [],
   "source": [
    "# Accessing the TMDB\n",
    "tmdb.API_KEY = '95b208af4c92eb1ddd5c831f91c84e15'\n",
    "\n",
    "# Initiate the data Lists\n",
    "t_tmdb  = []    # title\n",
    "b_tmdb  = []    # budget\n",
    "o_tmdb  = []    # overview\n",
    "rv_tmdb = []    # revenue\n",
    "k_tmdb  = []    # keywords\n",
    "rt_tmdb = []    # runtime\n",
    "p_tmdb  = []    # poster path\n",
    "g_tmdb  = []    # Genres\n",
    "\n",
    "# initiate counters\n",
    "i = 0\n",
    "\n",
    "for i in range(5):\n",
    "    \n",
    "    # Specify the movie id\n",
    "    movie = ids[i]\n",
    "    \n",
    "    # get the movie \n",
    "    mv = tmdb.Movies(movie)\n",
    "    response = mv.info()\n",
    "    \n",
    "    # Append to the data \n",
    "    t_tmdb.append(mv.title.encode('utf-8' , 'strict'))\n",
    "    b_tmdb.append(float(mv.budget))\n",
    "    o_tmdb.append(mv.overview.encode('utf-8' , 'strict'))\n",
    "    rv_tmdb.append(float(mv.revenue))\n",
    "    k_tmdb.append(mv.keywords)\n",
    "    rt_tmdb.append(float(mv.runtime))\n",
    "    p_tmdb.append(mv.poster_path.encode('utf-8' , 'strict'))\n",
    "    g_tmdb.append(mv.genres)\n",
    "    \n",
    "    # Pause\n",
    "    time.sleep(1)\n",
    "    \n",
    "    \n",
    "    \n",
    "    # Update Results\n",
    "    sys.stdout.flush()\n",
    "    sys.stdout.write(\"\\r Step: {}  id {}\".format(i, movie))\n",
    "        \n"
   ]
  },
  {
   "cell_type": "markdown",
   "metadata": {
    "deletable": true,
    "editable": true
   },
   "source": [
    "#### 3-Getting the Poster\n",
    "\n",
    "<br>"
   ]
  },
  {
   "cell_type": "code",
   "execution_count": null,
   "metadata": {
    "collapsed": false,
    "deletable": true,
    "editable": true
   },
   "outputs": [],
   "source": [
    "# Initial url with configuration\n",
    "url1 = 'https://image.tmdb.org/t/p/w500'\n",
    "\n",
    "# Initiate the posters list\n",
    "posters = []\n",
    "\n",
    "# Iterrate for the database\n",
    "for i in range(20):\n",
    "    \n",
    "    # getting the movie\n",
    "    url2 = p_tmdb[i]\n",
    "    \n",
    "    # composing the url\n",
    "    url = url1 + url2\n",
    "    \n",
    "    filename = './posters/' + str(ids[i]) + p_tmdb[i][-4:]\n",
    "    \n",
    "    f = open(filename , 'wb' )\n",
    "    f.write(urllib.urlopen(url).read())\n",
    "    f.close()\n",
    "    \n",
    "    time.sleep(5)\n",
    "    \n",
    "    sys.stdout.flush()\n",
    "    sys.stdout.write(\"\\r Step: {} , id {}\".format(i , ids[i]))"
   ]
  },
  {
   "cell_type": "markdown",
   "metadata": {
    "collapsed": true,
    "deletable": true,
    "editable": true
   },
   "source": [
    "### Acquiring From IMDB :\n",
    "\n",
    "\n",
    "<br>"
   ]
  },
  {
   "cell_type": "code",
   "execution_count": null,
   "metadata": {
    "collapsed": false,
    "deletable": true,
    "editable": true,
    "scrolled": false
   },
   "outputs": [],
   "source": [
    "# Create an IMDB object\n",
    "ia = IMDb()\n",
    "\n",
    "# Initiate the director List\n",
    "d_imdb = []\n",
    "p_imdb = []\n",
    "\n",
    "# initiate counters\n",
    "i, idm = 0, 0\n",
    "\n",
    "for i in range(20):\n",
    "    \n",
    "    # Specify the movie id\n",
    "    movie = idsdf.imdb_id.values[i][2:]\n",
    "    \n",
    "    # get the movie \n",
    "    mv = ia.get_movie(movie)\n",
    "        \n",
    "    # Get the director object\n",
    "    direc_raw = mv['director']\n",
    "    \n",
    "    # Get the director name\n",
    "    name = str(direc_raw[0]['name'])\n",
    "    \n",
    "    try:\n",
    "    \n",
    "        # Get the plot\n",
    "        plot = mv['plot']\n",
    "    \n",
    "        # Append to the list\n",
    "        p_imdb.append(plot[0].encode('utf-8' , 'strict'))\n",
    "    \n",
    "        # Append to the data\n",
    "        d_imdb.append(name)\n",
    "        \n",
    "    except KeyError as e:\n",
    "        \n",
    "        p_imdb.append('e')\n",
    "\n",
    "    \n",
    "    # Pause\n",
    "    time.sleep(1)\n",
    "    \n",
    "    # Update Results\n",
    "    sys.stdout.flush()\n",
    "    sys.stdout.write(\"\\r Step: {}  id {}\".format(i, movie))"
   ]
  },
  {
   "cell_type": "code",
   "execution_count": null,
   "metadata": {
    "collapsed": false,
    "deletable": true,
    "editable": true
   },
   "outputs": [],
   "source": []
  },
  {
   "cell_type": "markdown",
   "metadata": {
    "deletable": true,
    "editable": true
   },
   "source": [
    "\n",
    "\n",
    "<br>\n",
    "### Constructing the Labels Array\n",
    "\n",
    "\n",
    "<br>\n",
    "An array that includes a binary flag for each of the genres \n",
    "\n",
    "<br>"
   ]
  },
  {
   "cell_type": "code",
   "execution_count": null,
   "metadata": {
    "collapsed": false,
    "deletable": true,
    "editable": true
   },
   "outputs": [],
   "source": [
    "\n",
    "# Acquire the shape of the ID array\n",
    "shape_ids = idsdf.shape\n",
    "\n",
    "# Acquire the shape of the Genres Array\n",
    "shape_genre = gen_list.shape\n",
    "\n",
    "# Intitate a multilabel array\n",
    "Genres = np.zeros((shape_ids[0] , shape_genre[0]))\n",
    "\n",
    "# Iterating for each movie\n",
    "for i in range(20):\n",
    "    \n",
    "    # Extract the list of genres dictionaries\n",
    "    genr = g_tmdb[i]\n",
    "    \n",
    "    # iterrate over each dictionary of the dictionaries list\n",
    "    for j in range(len(genr)):\n",
    "        \n",
    "        # Extract the movie genre name\n",
    "        gename = genr[j]['name'].encode('utf-8' , 'strict')\n",
    "        \n",
    "        # Compare it to the list\n",
    "        for k in range(shape_genre[0]):\n",
    "            \n",
    "            # Change labe if there is a match\n",
    "            if gename == gen_list.iloc[k,1]:\n",
    "                \n",
    "                Genres[i,k] = 1\n"
   ]
  },
  {
   "cell_type": "code",
   "execution_count": null,
   "metadata": {
    "collapsed": false,
    "deletable": true,
    "editable": true
   },
   "outputs": [],
   "source": []
  },
  {
   "cell_type": "markdown",
   "metadata": {
    "deletable": true,
    "editable": true
   },
   "source": [
    "\n",
    "\n",
    "<br>\n",
    "## B - Helper Functions\n",
    "\n",
    "<br>"
   ]
  },
  {
   "cell_type": "markdown",
   "metadata": {
    "deletable": true,
    "editable": true
   },
   "source": [
    "### Handling Pixel Information\n",
    "\n",
    "<br>"
   ]
  },
  {
   "cell_type": "code",
   "execution_count": null,
   "metadata": {
    "collapsed": false,
    "deletable": true,
    "editable": true
   },
   "outputs": [],
   "source": [
    "# Open The image\n",
    "sample = Image.open('genre_header.jpg')\n",
    "\n",
    "# Transform it into a pixel Object\n",
    "pix = sample.load()\n",
    "\n",
    "# Determine Size\n",
    "sz = sample.size\n",
    "\n",
    "# Convert image to an array\n",
    "sample_ar = sample.convert('RGB')\n",
    "\n",
    "# Construct a numpy array\n",
    "sample_array = np.array(sample_ar)\n",
    "\n",
    "# Vectorize in RGB\n",
    "vec_sample = sample_array.ravel()\n",
    "\n"
   ]
  },
  {
   "cell_type": "markdown",
   "metadata": {
    "deletable": true,
    "editable": true
   },
   "source": [
    "- In this case the image vector will include the three colors. To handle features, we need to transform to Grayscale\n",
    "- In order to get the information of each color, we will do the following\n",
    "\n",
    "\n",
    "<br>\n",
    "\n",
    "#### 1 - Red"
   ]
  },
  {
   "cell_type": "code",
   "execution_count": null,
   "metadata": {
    "collapsed": false,
    "deletable": true,
    "editable": true
   },
   "outputs": [],
   "source": [
    "# Extract Red\n",
    "arr_red = sample_array[:,:,0]\n",
    "\n",
    "# Vectorize\n",
    "vec_red = arr_red.ravel()\n",
    "\n",
    "# Calculate Average\n",
    "mean_red = np.mean(vec_red)\n",
    "\n",
    "# Claculate the variance\n",
    "var_red = vec_red.var()"
   ]
  },
  {
   "cell_type": "markdown",
   "metadata": {
    "deletable": true,
    "editable": true
   },
   "source": [
    "\n",
    "\n",
    "\n",
    "<br>\n",
    "#### 2 - Green\n",
    "\n",
    "<br>"
   ]
  },
  {
   "cell_type": "code",
   "execution_count": null,
   "metadata": {
    "collapsed": true,
    "deletable": true,
    "editable": true
   },
   "outputs": [],
   "source": [
    "# Extract Green\n",
    "arr_green = sample_array[:,:,1]\n",
    "\n",
    "# Vectorize\n",
    "vec_green = arr_green.ravel()\n",
    "\n",
    "# Calculate Average\n",
    "mean_green = np.mean(vec_green)\n",
    "\n",
    "# Calculate variance\n",
    "var_green = vec_green.var()"
   ]
  },
  {
   "cell_type": "markdown",
   "metadata": {
    "deletable": true,
    "editable": true
   },
   "source": [
    "\n",
    "\n",
    "\n",
    "<br>\n",
    "#### 2 -Blue\n",
    "\n",
    "<br>"
   ]
  },
  {
   "cell_type": "code",
   "execution_count": null,
   "metadata": {
    "collapsed": true,
    "deletable": true,
    "editable": true
   },
   "outputs": [],
   "source": [
    "# Extract Blue\n",
    "arr_blue = sample_array[:,:,2]\n",
    "\n",
    "# Vectorize\n",
    "vec_blue = arr_blue.ravel()\n",
    "\n",
    "# Calculate Average\n",
    "mean_blue = np.mean(vec_blue)\n",
    "\n",
    "# Calculate Variance\n",
    "var_blue = vec_blue.var()"
   ]
  },
  {
   "cell_type": "markdown",
   "metadata": {
    "deletable": true,
    "editable": true
   },
   "source": [
    "\n",
    "\n",
    "<br>\n",
    "\n",
    "### Convert to grayscale and vectorize (As a feature)\n",
    "\n",
    "<br>"
   ]
  },
  {
   "cell_type": "code",
   "execution_count": null,
   "metadata": {
    "collapsed": true,
    "deletable": true,
    "editable": true
   },
   "outputs": [],
   "source": [
    "# Convert to grayscale\n",
    "img_gray = sample.convert(\"1\")\n",
    "\n",
    "# Construct a numpy array\n",
    "sample_gray = np.array(img_gray)\n",
    "\n",
    "# Vectorize in RGB\n",
    "vec_gray = sample_gray.ravel()"
   ]
  },
  {
   "cell_type": "code",
   "execution_count": null,
   "metadata": {
    "collapsed": false,
    "deletable": true,
    "editable": true
   },
   "outputs": [],
   "source": [
    "\n",
    "# Check if All three colors were condensed into in a monochrome value\n",
    "float(vec_sample.shape[0]) / float(vec_gray.shape[0])"
   ]
  },
  {
   "cell_type": "code",
   "execution_count": null,
   "metadata": {
    "collapsed": true,
    "deletable": true,
    "editable": true
   },
   "outputs": [],
   "source": []
  }
 ],
 "metadata": {
  "kernelspec": {
   "display_name": "Python 2",
   "language": "python",
   "name": "python2"
  },
  "language_info": {
   "codemirror_mode": {
    "name": "ipython",
    "version": 2
   },
   "file_extension": ".py",
   "mimetype": "text/x-python",
   "name": "python",
   "nbconvert_exporter": "python",
   "pygments_lexer": "ipython2",
   "version": "2.7.12"
  }
 },
 "nbformat": 4,
 "nbformat_minor": 2
}
