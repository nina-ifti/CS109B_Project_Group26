{
 "cells": [
  {
   "cell_type": "markdown",
   "metadata": {
    "deletable": true,
    "editable": true
   },
   "source": [
    "# Data Acquisition Code\n",
    "\n",
    "<br>\n",
    "This code includes the necessary comand to acquire the data in addition to some helper function for the image analysis\n",
    "\n",
    "\n",
    "<br>\n",
    "\n",
    "## A - Data Acquisition\n",
    "\n",
    "\n",
    "<br>"
   ]
  },
  {
   "cell_type": "markdown",
   "metadata": {
    "deletable": true,
    "editable": true
   },
   "source": [
    "### Importing Modules\n",
    "\n",
    "\n",
    "<br>"
   ]
  },
  {
   "cell_type": "code",
   "execution_count": 2,
   "metadata": {
    "collapsed": false,
    "deletable": true,
    "editable": true,
    "scrolled": true
   },
   "outputs": [],
   "source": [
    "import requests\n",
    "import json\n",
    "import time\n",
    "import itertools\n",
    "import wget\n",
    "import os\n",
    "import png\n",
    "import pickle\n",
    "import numpy as np\n",
    "import tmdbsimple as tmdb\n",
    "import imdb\n",
    "import time\n",
    "import sys\n",
    "import urllib\n",
    "from PIL import Image\n",
    "\n",
    "import random\n",
    "import matplotlib\n",
    "import matplotlib.pyplot as plt\n",
    "%matplotlib inline\n",
    "\n",
    "import seaborn as sns\n",
    "from sklearn.cluster.bicluster import SpectralCoclustering\n",
    "from sklearn.metrics import precision_recall_curve\n",
    "import scipy\n",
    "\n",
    "sns.set_style('white')\n",
    "import tensorflow as tf\n",
    "import pandas as pd\n",
    "\n",
    "from imdb import IMDb"
   ]
  },
  {
   "cell_type": "markdown",
   "metadata": {
    "deletable": true,
    "editable": true
   },
   "source": [
    "### Importing ID File and Genres List\n",
    "\n",
    "<br>"
   ]
  },
  {
   "cell_type": "code",
   "execution_count": 3,
   "metadata": {
    "collapsed": false,
    "deletable": true,
    "editable": true
   },
   "outputs": [
    {
     "data": {
      "text/html": [
       "<div>\n",
       "<table border=\"1\" class=\"dataframe\">\n",
       "  <thead>\n",
       "    <tr style=\"text-align: right;\">\n",
       "      <th></th>\n",
       "      <th>tmdb</th>\n",
       "    </tr>\n",
       "  </thead>\n",
       "  <tbody>\n",
       "    <tr>\n",
       "      <th>0</th>\n",
       "      <td>2</td>\n",
       "    </tr>\n",
       "    <tr>\n",
       "      <th>1</th>\n",
       "      <td>3</td>\n",
       "    </tr>\n",
       "    <tr>\n",
       "      <th>2</th>\n",
       "      <td>5</td>\n",
       "    </tr>\n",
       "    <tr>\n",
       "      <th>3</th>\n",
       "      <td>6</td>\n",
       "    </tr>\n",
       "    <tr>\n",
       "      <th>4</th>\n",
       "      <td>8</td>\n",
       "    </tr>\n",
       "  </tbody>\n",
       "</table>\n",
       "</div>"
      ],
      "text/plain": [
       "   tmdb\n",
       "0     2\n",
       "1     3\n",
       "2     5\n",
       "3     6\n",
       "4     8"
      ]
     },
     "execution_count": 3,
     "metadata": {},
     "output_type": "execute_result"
    }
   ],
   "source": [
    "# Importing Data file\n",
    "idsdf = pd.read_csv('newIDraw.csv')\n",
    "\n",
    "# Printing a sample data\n",
    "idsdf.head()"
   ]
  },
  {
   "cell_type": "markdown",
   "metadata": {
    "deletable": true,
    "editable": true
   },
   "source": [
    "### Acquiring from TMDB:\n",
    "\n",
    "\n",
    "<br>"
   ]
  },
  {
   "cell_type": "markdown",
   "metadata": {
    "deletable": true,
    "editable": true
   },
   "source": [
    "#### 1- Specifying the IDs\n",
    "\n",
    "\n",
    "<br>"
   ]
  },
  {
   "cell_type": "code",
   "execution_count": 8,
   "metadata": {
    "collapsed": false,
    "deletable": true,
    "editable": true
   },
   "outputs": [
    {
     "data": {
      "text/plain": [
       "5144"
      ]
     },
     "execution_count": 8,
     "metadata": {},
     "output_type": "execute_result"
    }
   ],
   "source": [
    "ids = idsdf.tmdb.values\n",
    "len(ids)"
   ]
  },
  {
   "cell_type": "markdown",
   "metadata": {
    "deletable": true,
    "editable": true
   },
   "source": [
    "#### 2- Requesting the data\n",
    "\n",
    "<br>"
   ]
  },
  {
   "cell_type": "code",
   "execution_count": 10,
   "metadata": {
    "collapsed": false,
    "deletable": true,
    "editable": true,
    "scrolled": false
   },
   "outputs": [
    {
     "name": "stdout",
     "output_type": "stream",
     "text": [
      " Step: 5143  not adult count 5133"
     ]
    }
   ],
   "source": [
    "# Accessing the TMDB\n",
    "tmdb.API_KEY = '95b208af4c92eb1ddd5c831f91c84e15'\n",
    "\n",
    "# Initiate the data Lists\n",
    "na_tmdb  = []    # title\n",
    "\n",
    "# initiate counters\n",
    "i = 0\n",
    "\n",
    "for i in range(len(ids)):\n",
    "    \n",
    "    # Specify the movie id\n",
    "    movie = ids[i]\n",
    "    \n",
    "    # get the movie \n",
    "    mv = tmdb.Movies(movie)\n",
    "    response = mv.info()\n",
    "    \n",
    "    # Append to the data \n",
    "    if not mv.adult:\n",
    "        \n",
    "        # In case of being not adult\n",
    "        na_tmdb.append(mv.id)\n",
    "    \n",
    "    # Pause\n",
    "    time.sleep(0.5)\n",
    "    \n",
    "    \n",
    "    \n",
    "    # Update Results\n",
    "    sys.stdout.flush()\n",
    "    sys.stdout.write(\"\\r Step: {}  not adult count {}\".format(i, len(na_tmdb)))\n",
    "        \n"
   ]
  },
  {
   "cell_type": "markdown",
   "metadata": {
    "deletable": true,
    "editable": true
   },
   "source": [
    "#### 3-Output the Data\n",
    "\n",
    "<br>"
   ]
  },
  {
   "cell_type": "code",
   "execution_count": 12,
   "metadata": {
    "collapsed": false,
    "deletable": true,
    "editable": true
   },
   "outputs": [],
   "source": [
    "# Construct the Data Frame\n",
    "idnew = {'tmdb' : na_tmdb }\n",
    "\n",
    "idnewdf = pd.DataFrame(idnew)\n",
    "\n",
    "# Write to file\n",
    "idnewdf.to_csv('Additional.csv')"
   ]
  },
  {
   "cell_type": "code",
   "execution_count": null,
   "metadata": {
    "collapsed": true
   },
   "outputs": [],
   "source": []
  }
 ],
 "metadata": {
  "kernelspec": {
   "display_name": "Python 2",
   "language": "python",
   "name": "python2"
  },
  "language_info": {
   "codemirror_mode": {
    "name": "ipython",
    "version": 2
   },
   "file_extension": ".py",
   "mimetype": "text/x-python",
   "name": "python",
   "nbconvert_exporter": "python",
   "pygments_lexer": "ipython2",
   "version": "2.7.12"
  }
 },
 "nbformat": 4,
 "nbformat_minor": 2
}
