{
 "cells": [
  {
   "cell_type": "code",
   "execution_count": 1,
   "metadata": {
    "collapsed": false,
    "deletable": true,
    "editable": true,
    "scrolled": true
   },
   "outputs": [
    {
     "name": "stderr",
     "output_type": "stream",
     "text": [
      "Using TensorFlow backend.\n"
     ]
    }
   ],
   "source": [
    "import requests\n",
    "import json\n",
    "import time\n",
    "import itertools\n",
    "import wget\n",
    "import os\n",
    "import pickle\n",
    "import numpy as np\n",
    "import tmdbsimple as tmdb\n",
    "import imdb\n",
    "import time\n",
    "import sys\n",
    "\n",
    "import random\n",
    "import matplotlib\n",
    "import matplotlib.pyplot as plt\n",
    "%matplotlib inline\n",
    "\n",
    "import seaborn as sns\n",
    "from sklearn.cluster.bicluster import SpectralCoclustering\n",
    "from sklearn.metrics import precision_recall_curve\n",
    "import scipy\n",
    "\n",
    "sns.set_style('white')\n",
    "import tensorflow as tf\n",
    "import pandas as pd\n",
    "import keras\n",
    "from imdb import IMDb\n",
    "from keras.models import Sequential\n",
    "from keras.layers import Dense,Dropout,Flatten\n",
    "from keras.layers import Conv2D, MaxPooling2D\n",
    "from keras import backend as k\n",
    "from keras.models import load_model"
   ]
  },
  {
   "cell_type": "code",
   "execution_count": 2,
   "metadata": {
    "collapsed": false,
    "deletable": true,
    "editable": true
   },
   "outputs": [],
   "source": [
    "urll = \"https://api.themoviedb.org/3/genre/movie/list?api_key=95b208af4c92eb1ddd5c831f91c84e15&language=en-US\"\n",
    "g = requests.get(urll)"
   ]
  },
  {
   "cell_type": "code",
   "execution_count": 3,
   "metadata": {
    "collapsed": false,
    "deletable": true,
    "editable": true
   },
   "outputs": [],
   "source": [
    "g_dict = json.loads(g.text)['genres']\n",
    "genr = []\n",
    "\n",
    "for i in range(len(g_dict)):\n",
    "    genr.append(str(g_dict[i]['name']))\n",
    "genrdf = pd.DataFrame(genr)  \n",
    "genrdf.to_csv('genres_TMDB.csv')"
   ]
  },
  {
   "cell_type": "code",
   "execution_count": 4,
   "metadata": {
    "collapsed": false,
    "deletable": true,
    "editable": true
   },
   "outputs": [
    {
     "name": "stdout",
     "output_type": "stream",
     "text": [
      " Step: 30000  acquired: 13627"
     ]
    },
    {
     "ename": "KeyboardInterrupt",
     "evalue": "",
     "output_type": "error",
     "traceback": [
      "\u001b[0;31m---------------------------------------------------------------------------\u001b[0m",
      "\u001b[0;31mKeyboardInterrupt\u001b[0m                         Traceback (most recent call last)",
      "\u001b[0;32m<ipython-input-4-e437bf6423e1>\u001b[0m in \u001b[0;36m<module>\u001b[0;34m()\u001b[0m\n\u001b[1;32m     30\u001b[0m \u001b[0;34m\u001b[0m\u001b[0m\n\u001b[1;32m     31\u001b[0m \u001b[0;34m\u001b[0m\u001b[0m\n\u001b[0;32m---> 32\u001b[0;31m     \u001b[0mtime\u001b[0m\u001b[0;34m.\u001b[0m\u001b[0msleep\u001b[0m\u001b[0;34m(\u001b[0m\u001b[0;36m0.5\u001b[0m\u001b[0;34m)\u001b[0m\u001b[0;34m\u001b[0m\u001b[0m\n\u001b[0m\u001b[1;32m     33\u001b[0m \u001b[0;34m\u001b[0m\u001b[0m\n\u001b[1;32m     34\u001b[0m     \u001b[0msys\u001b[0m\u001b[0;34m.\u001b[0m\u001b[0mstdout\u001b[0m\u001b[0;34m.\u001b[0m\u001b[0mflush\u001b[0m\u001b[0;34m(\u001b[0m\u001b[0;34m)\u001b[0m\u001b[0;34m\u001b[0m\u001b[0m\n",
      "\u001b[0;31mKeyboardInterrupt\u001b[0m: "
     ]
    }
   ],
   "source": [
    "url1 = \"https://api.themoviedb.org/3/movie/\"\n",
    "url2 = \"?api_key=95b208af4c92eb1ddd5c831f91c84e15&language=en-US\"\n",
    "\n",
    "imdb  = []\n",
    "tmdb  = []\n",
    "\n",
    "a = 0\n",
    "\n",
    "for i in range(10000,121001):\n",
    "    \n",
    "    url = url1 + str(i) + url2\n",
    "    \n",
    "    r = requests.get(url)    \n",
    "    \n",
    "    try:\n",
    "        dat = json.loads(r.text)\n",
    "        \n",
    "        if not dat['adult']:\n",
    "            \n",
    "            tmdb.append(dat['id'])\n",
    "            imdb.append(dat['imdb_id'])\n",
    "            a += 1\n",
    "            \n",
    "        else :\n",
    "            a += 0\n",
    "        \n",
    "    except KeyError as e:\n",
    "        \n",
    "        a += 0\n",
    "            \n",
    "      \n",
    "    time.sleep(0.5)\n",
    "        \n",
    "    sys.stdout.flush()\n",
    "\n",
    "    sys.stdout.write(\"\\r Step: {}  acquired: {}\".format(i, a))"
   ]
  },
  {
   "cell_type": "code",
   "execution_count": 174,
   "metadata": {
    "collapsed": false,
    "deletable": true,
    "editable": true
   },
   "outputs": [
    {
     "data": {
      "text/plain": [
       "1199"
      ]
     },
     "execution_count": 174,
     "metadata": {},
     "output_type": "execute_result"
    }
   ],
   "source": [
    "len(imdb)"
   ]
  },
  {
   "cell_type": "code",
   "execution_count": 5,
   "metadata": {
    "collapsed": false,
    "deletable": true,
    "editable": true
   },
   "outputs": [],
   "source": [
    "imdbd = []\n",
    "tmdbd = []\n",
    "\n",
    "for i in range(len(imdb)):\n",
    "    imdbd.append(str(imdb[i]))\n",
    "    tmdbd.append(str(tmdb[i]))\n",
    "    \n",
    "raw = {'tmdb':tmdb , 'imdb':imdb}\n",
    "rawdf = pd.DataFrame(raw)\n",
    "rawdf.to_csv('New1.csv')"
   ]
  },
  {
   "cell_type": "markdown",
   "metadata": {
    "collapsed": true,
    "deletable": true,
    "editable": true
   },
   "source": [
    "### Acquiring Genre From IMDB :\n",
    "\n",
    "\n",
    "<br>"
   ]
  },
  {
   "cell_type": "code",
   "execution_count": null,
   "metadata": {
    "collapsed": false,
    "deletable": true,
    "editable": true,
    "scrolled": false
   },
   "outputs": [],
   "source": [
    "# Create an IMDB object\n",
    "ia = IMDb()\n",
    "\n",
    "# get the movie \n",
    "mv = ia.get_movie('0120338')   \n",
    "mv['genre']  "
   ]
  },
  {
   "cell_type": "code",
   "execution_count": null,
   "metadata": {
    "collapsed": false,
    "deletable": true,
    "editable": true
   },
   "outputs": [],
   "source": [
    "str(mv['cast'][4]['name'])"
   ]
  },
  {
   "cell_type": "markdown",
   "metadata": {
    "deletable": true,
    "editable": true
   },
   "source": [
    "#### Cleaning and re-arranging"
   ]
  },
  {
   "cell_type": "code",
   "execution_count": null,
   "metadata": {
    "collapsed": false,
    "deletable": true,
    "editable": true
   },
   "outputs": [],
   "source": [
    "# Construct a list of ascii characters:\n",
    "# -------------------------------------\n",
    "\n",
    "# initiate the list\n",
    "imdb_list = []\n",
    "\n",
    "# Loop over the length of the acquired genres\n",
    "for g in g_imdb:\n",
    "    \n",
    "    # Select the movies with more than one genre\n",
    "    if len(g)>=2:\n",
    "        \n",
    "        # intiate the individual movie gene list\n",
    "        mv = []\n",
    "        \n",
    "        # Extract the ascii genre\n",
    "        for i in range(len(g)):\n",
    "            \n",
    "            # Append to the movie genre list\n",
    "            mv.append(str(g[i]))\n",
    "        \n",
    "        # Append to the imddb list\n",
    "        imdb_list.append(mv)\n",
    "          "
   ]
  },
  {
   "cell_type": "markdown",
   "metadata": {
    "deletable": true,
    "editable": true
   },
   "source": [
    "### Acquiring from TMDB:\n",
    "\n",
    "\n",
    "<br>"
   ]
  },
  {
   "cell_type": "code",
   "execution_count": null,
   "metadata": {
    "collapsed": false,
    "deletable": true,
    "editable": true
   },
   "outputs": [],
   "source": [
    "# Accessing the TMDB\n",
    "tmdb.API_KEY = '95b208af4c92eb1ddd5c831f91c84e15'\n",
    "\n",
    "mvsrch = tmdb.Search()\n",
    "response = mvsrch.movie(query='Titanic')\n",
    "\n",
    "movinf = mvsrch.results[0]\n",
    "mvid = movinf['id']\n",
    "\n",
    "movie = tmdb.Movies(mvid)\n"
   ]
  },
  {
   "cell_type": "markdown",
   "metadata": {
    "deletable": true,
    "editable": true
   },
   "source": [
    "#### Cleaning and re-arranging"
   ]
  },
  {
   "cell_type": "code",
   "execution_count": null,
   "metadata": {
    "collapsed": false,
    "deletable": true,
    "editable": true
   },
   "outputs": [],
   "source": [
    "# Construct a list of ascii characters:\n",
    "# -------------------------------------\n",
    "\n",
    "# initiate the list\n",
    "tmdb_list = []\n",
    "\n",
    "# Loop over the length of the acquired genres\n",
    "for g in g_tmdb:\n",
    "    \n",
    "    # Select the movies with more than one genre\n",
    "    if len(g)>=2:\n",
    "        \n",
    "        # intiate the individual movie gene list\n",
    "        mv = []\n",
    "        \n",
    "        # Extract the ascii genre\n",
    "        for i in range(len(g)):\n",
    "            \n",
    "            # Append to the movie genre list\n",
    "            mv.append(str(g[i]['name']))\n",
    "        \n",
    "        # Append to the imddb list\n",
    "        tmdb_list.append(mv)\n",
    "          "
   ]
  },
  {
   "cell_type": "markdown",
   "metadata": {
    "deletable": true,
    "editable": true
   },
   "source": [
    "### Merging Both and construct a unique array of genres:\n",
    "\n",
    "\n",
    "<br>"
   ]
  },
  {
   "cell_type": "code",
   "execution_count": null,
   "metadata": {
    "collapsed": false,
    "deletable": true,
    "editable": true
   },
   "outputs": [],
   "source": [
    "# Merging Both Lists\n",
    "# ------------------\n",
    "\n",
    "# Initiate the merged array\n",
    "genre_list = []\n",
    "\n",
    "# Adding the IMBD list items\n",
    "for gi in imdb_list:\n",
    "    \n",
    "    # Append to the merged list\n",
    "    genre_list.append(gi)\n",
    "    \n",
    "# Adding the TMDB list items\n",
    "for gt in tmdb_list:\n",
    "    \n",
    "    # Append to the merged list\n",
    "    genre_list.append(gt)"
   ]
  },
  {
   "cell_type": "code",
   "execution_count": null,
   "metadata": {
    "collapsed": false,
    "deletable": true,
    "editable": true
   },
   "outputs": [],
   "source": [
    "# Construct an aggregated array of genres:\n",
    "# ---------------------------------------\n",
    "\n",
    "# initiate the overall list of all aggregated genres (to extract the unique array)\n",
    "longlist = []\n",
    "\n",
    "# Iterrate over the length of the transformed list\n",
    "for lst in genre_list:\n",
    "    \n",
    "    # iterrate for each item in each individual list\n",
    "    for i in range(len(lst)):\n",
    "        \n",
    "        # Append to the original list\n",
    "        longlist.append(lst[i])\n",
    "\n",
    "# Construct a unique array:\n",
    "#--------------------------\n",
    "\n",
    "# Construct the unique vector\n",
    "unique_genre = np.unique(np.array(longlist))\n",
    "\n",
    "# Length of the unique genre array\n",
    "L = len(unique_genre)"
   ]
  },
  {
   "cell_type": "code",
   "execution_count": null,
   "metadata": {
    "collapsed": false,
    "deletable": true,
    "editable": true
   },
   "outputs": [],
   "source": [
    "print unique_genre"
   ]
  },
  {
   "cell_type": "markdown",
   "metadata": {
    "deletable": true,
    "editable": true
   },
   "source": [
    "### Constructing the genre doubles matrix :\n",
    "\n",
    "\n",
    "<br>"
   ]
  },
  {
   "cell_type": "code",
   "execution_count": null,
   "metadata": {
    "collapsed": false,
    "deletable": true,
    "editable": true
   },
   "outputs": [],
   "source": [
    "# Function to define the indices of the genres in the Matrix\n",
    "# -----------------------------------------------------------\n",
    "\n",
    "def genre_couple(genre1 , genre2):\n",
    "    \n",
    "    # Search for match\n",
    "    for i , gen in enumerate(unique_genre):\n",
    "        \n",
    "        # Look for first one\n",
    "        if gen == genre1:\n",
    "            \n",
    "            # get the index\n",
    "            a = i\n",
    "            \n",
    "        # Look for Second one    \n",
    "        if gen ==genre2:\n",
    "            \n",
    "            # Get the index\n",
    "            b = i\n",
    "            \n",
    "    return a,b\n",
    "    \n",
    "   "
   ]
  },
  {
   "cell_type": "code",
   "execution_count": null,
   "metadata": {
    "collapsed": false,
    "deletable": true,
    "editable": true
   },
   "outputs": [],
   "source": [
    "# Building the Matrix:\n",
    "# -------------------\n",
    "\n",
    "# Initiate the matrix\n",
    "Genre_Matrix = np.zeros((L,L))\n",
    "\n",
    "# Analyze each movie entry\n",
    "for mov in genre_list:\n",
    "    \n",
    "    # length of the genre labels\n",
    "    lgen = len(mov)\n",
    "    \n",
    "    # Select couples of movies\n",
    "    for i in range(lgen - 1):\n",
    "        \n",
    "        # Select the second genre\n",
    "        for j in range(i+1 , lgen):\n",
    "            \n",
    "            # Extract the indices in the Genre Matrix\n",
    "            x , y = genre_couple(mov[i] , mov[j])\n",
    "            \n",
    "            # Add a frequency count to the Matrix\n",
    "            Genre_Matrix[x,y] += 1\n",
    "            \n",
    "# Genrate a frequency based probability\n",
    "Genre = Genre_Matrix / np.sum(Genre_Matrix)\n"
   ]
  },
  {
   "cell_type": "markdown",
   "metadata": {
    "deletable": true,
    "editable": true
   },
   "source": [
    "### Produce the Vizualization\n",
    "\n",
    "<br>"
   ]
  },
  {
   "cell_type": "code",
   "execution_count": null,
   "metadata": {
    "collapsed": false,
    "deletable": true,
    "editable": true
   },
   "outputs": [],
   "source": [
    "# Build a heatmap figure\n",
    "\n",
    "fig = plt.figure (figsize = (10,10))\n",
    "ind = np.arange(L)\n",
    "width = 0.5\n",
    "c_map = plt.get_cmap('summer')\n",
    "\n",
    "# Generate the heatmap\n",
    "\n",
    "ax1 = fig.add_subplot(1,1,1)\n",
    "ax1.pcolor(Genre , cmap = c_map)\n",
    "ax1.set_title('Analysis of Genre Pairs Frequency')\n",
    "ax1.set_xticks(ind + width)\n",
    "ax1.set_yticks(ind + width)\n",
    "ax1.set_xticklabels(unique_genre , rotation = 'vertical')\n",
    "ax1.set_yticklabels(unique_genre)\n",
    "\n",
    "plt.show()"
   ]
  },
  {
   "cell_type": "markdown",
   "metadata": {
    "deletable": true,
    "editable": true
   },
   "source": [
    "#### Observations:\n",
    "\n",
    "<br>\n",
    "    - If more than two ratings were assigned to the movie, each individual pair is considered\n",
    "    - The most paired genres are \"Drama\" and \"Romance\"\n",
    "    - \"Film-Noir\" is rarely rated and hence not paired quiet often"
   ]
  }
 ],
 "metadata": {
  "kernelspec": {
   "display_name": "Python 2",
   "language": "python",
   "name": "python2"
  },
  "language_info": {
   "codemirror_mode": {
    "name": "ipython",
    "version": 2
   },
   "file_extension": ".py",
   "mimetype": "text/x-python",
   "name": "python",
   "nbconvert_exporter": "python",
   "pygments_lexer": "ipython2",
   "version": "2.7.12"
  }
 },
 "nbformat": 4,
 "nbformat_minor": 2
}
